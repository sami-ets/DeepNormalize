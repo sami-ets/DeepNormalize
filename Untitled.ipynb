{
 "cells": [
  {
   "cell_type": "code",
   "execution_count": 7,
   "metadata": {},
   "outputs": [],
   "source": [
    "import matplotlib.pyplot as plt\n",
    "import numpy as np\n",
    "import seaborn\n",
    "import torch\n",
    "from kerosene.utils.tensors import to_onehot\n",
    "from torch.utils.data import DataLoader\n",
    "\n",
    "from deepNormalize.inputs.datasets import SingleImageDataset\n",
    "from deepNormalize.models.dcgan3d import DCGAN\n",
    "from deepNormalize.models.unet3d import Unet\n",
    "from deepNormalize.utils.image_slicer import ImageReconstructor\n"
   ]
  },
  {
   "cell_type": "code",
   "execution_count": 4,
   "metadata": {},
   "outputs": [],
   "source": [
    "PATCH = 0\n",
    "SLICE = 1\n",
    "\n",
    "PATCH_SIZE = (1, 32, 32, 32)\n",
    "STEP = (1, 32, 32, 32)\n",
    "\n",
    "BATCH_SIZE = 10\n",
    "\n",
    "DATA_SET_ROOT_PATH_MR_BRAINS = \"/mnt/md0/Data/MRBrainS_scaled/DataNii/TrainingData/\"\n",
    "DATA_SET_ROOT_PATH_ISEG = \"/mnt/md0/Data/iSEG_scaled/Training/\"\n",
    "\n",
    "MR_BRAIN_SUBJECT = str(2)\n",
    "ISEG_SUBJECT = str(9)"
   ]
  },
  {
   "cell_type": "code",
   "execution_count": 5,
   "metadata": {},
   "outputs": [],
   "source": [
    "mrbrains_dataset = SingleImageDataset(root_path=DATA_SET_ROOT_PATH_MR_BRAINS, subject=MR_BRAIN_SUBJECT,\n",
    "                                      patch_size=PATCH_SIZE, step=STEP)\n",
    "iseg_dataset = SingleImageDataset(DATA_SET_ROOT_PATH_ISEG, subject=ISEG_SUBJECT, patch_size=PATCH_SIZE, step=STEP)\n",
    "\n",
    "mrbrain_data_loader = DataLoader(mrbrains_dataset, batch_size=BATCH_SIZE, num_workers=0, drop_last=False,\n",
    "                                 shuffle=False,\n",
    "                                 pin_memory=False)\n",
    "iseg_data_loader = DataLoader(iseg_dataset, batch_size=BATCH_SIZE, num_workers=0, drop_last=False, shuffle=False,\n",
    "                              pin_memory=False)"
   ]
  },
  {
   "cell_type": "code",
   "execution_count": 6,
   "metadata": {},
   "outputs": [
    {
     "data": {
      "text/plain": [
       "DCGAN(\n",
       "  (_layer_1): Sequential(\n",
       "    (0): ReplicationPad3d((1, 1, 1, 1, 1, 1))\n",
       "    (1): Conv3d(1, 16, kernel_size=(3, 3, 3), stride=(2, 2, 2))\n",
       "    (2): LeakyReLU(negative_slope=0.2, inplace=True)\n",
       "    (3): Dropout3d(p=0.25, inplace=False)\n",
       "  )\n",
       "  (_layer_2): Sequential(\n",
       "    (0): ReplicationPad3d((1, 1, 1, 1, 1, 1))\n",
       "    (1): Conv3d(16, 32, kernel_size=(3, 3, 3), stride=(2, 2, 2))\n",
       "    (2): LeakyReLU(negative_slope=0.2, inplace=True)\n",
       "    (3): Dropout3d(p=0.25, inplace=False)\n",
       "    (4): BatchNorm3d(32, eps=0.8, momentum=0.1, affine=True, track_running_stats=True)\n",
       "  )\n",
       "  (_layer_3): Sequential(\n",
       "    (0): ReplicationPad3d((1, 1, 1, 1, 1, 1))\n",
       "    (1): Conv3d(32, 64, kernel_size=(3, 3, 3), stride=(2, 2, 2))\n",
       "    (2): LeakyReLU(negative_slope=0.2, inplace=True)\n",
       "    (3): Dropout3d(p=0.25, inplace=False)\n",
       "    (4): BatchNorm3d(64, eps=0.8, momentum=0.1, affine=True, track_running_stats=True)\n",
       "  )\n",
       "  (_layer_4): Sequential(\n",
       "    (0): ReplicationPad3d((1, 1, 1, 1, 1, 1))\n",
       "    (1): Conv3d(64, 128, kernel_size=(3, 3, 3), stride=(2, 2, 2))\n",
       "    (2): LeakyReLU(negative_slope=0.2, inplace=True)\n",
       "    (3): Dropout3d(p=0.25, inplace=False)\n",
       "    (4): BatchNorm3d(128, eps=0.8, momentum=0.1, affine=True, track_running_stats=True)\n",
       "  )\n",
       "  (adv_layer): Sequential(\n",
       "    (0): Linear(in_features=1024, out_features=3, bias=True)\n",
       "    (1): Sigmoid()\n",
       "  )\n",
       ")"
      ]
     },
     "execution_count": 6,
     "metadata": {},
     "output_type": "execute_result"
    }
   ],
   "source": [
    "generator = Unet(1, 1, True, True)\n",
    "discriminator = DCGAN(1, 3)\n",
    "\n",
    "checkpoint = torch.load(\"/mnt/md0/models/Generator/data_augmentation/Generator.tar\")\n",
    "generator.load_state_dict(checkpoint[\"model_state_dict\"])\n",
    "generator.cuda()\n",
    "checkpoint = torch.load(\"/mnt/md0/models/Discriminatordata_agumentation/Discriminator.tar\")\n",
    "discriminator.load_state_dict(checkpoint[\"model_state_dict\"])\n",
    "discriminator.cuda()\n",
    "\n",
    "reconstructor = ImageReconstructor()"
   ]
  },
  {
   "cell_type": "code",
   "execution_count": null,
   "metadata": {},
   "outputs": [],
   "source": []
  }
 ],
 "metadata": {
  "kernelspec": {
   "display_name": "Python 3",
   "language": "python",
   "name": "python3"
  },
  "language_info": {
   "codemirror_mode": {
    "name": "ipython",
    "version": 3
   },
   "file_extension": ".py",
   "mimetype": "text/x-python",
   "name": "python",
   "nbconvert_exporter": "python",
   "pygments_lexer": "ipython3",
   "version": "3.7.3"
  }
 },
 "nbformat": 4,
 "nbformat_minor": 2
}
